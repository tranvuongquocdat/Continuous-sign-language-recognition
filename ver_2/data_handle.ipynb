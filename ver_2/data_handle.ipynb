{
 "cells": [
  {
   "cell_type": "code",
   "execution_count": 1,
   "metadata": {},
   "outputs": [],
   "source": [
    "import random\n",
    "import numpy as np\n",
    "\n",
    "def calculate_reduce_frame(video_frame, target_frame):\n",
    "    # Tạo ma trận hệ số\n",
    "    coefficients = np.array([[2, 1], [1, 1]])\n",
    "\n",
    "    # Tạo vector kết quả\n",
    "    constants = np.array([video_frame, target_frame])\n",
    "\n",
    "    # Giải hệ phương trình\n",
    "    solution = np.linalg.solve(coefficients, constants)\n",
    "    return solution[0], solution[1]\n",
    "\n",
    "def calculate_extra_frame(video_frame, target_frame):\n",
    "    # Tạo ma trận hệ số\n",
    "    coefficients = np.array([[1, 1], [2, 1]])\n",
    "\n",
    "    # Tạo vector kết quả\n",
    "    constants = np.array([video_frame, target_frame])\n",
    "\n",
    "    # Giải hệ phương trình\n",
    "    solution = np.linalg.solve(coefficients, constants)\n",
    "    return solution[0], solution[1]\n",
    "\n",
    "def get_frame_list(video_frame, target_frame):\n",
    "    if video_frame > target_frame:\n",
    "        new_lst = []\n",
    "        a, b = calculate_reduce_frame(video_frame, target_frame)\n",
    "        for i in range(int(a)):\n",
    "            new_lst.append(2 * i)\n",
    "        for i in range(int(2 * a), int(2 * a + b)):\n",
    "            new_lst.append(i)\n",
    "\n",
    "        # print(new_lst)\n",
    "\n",
    "    elif video_frame < target_frame:\n",
    "        new_lst = []\n",
    "        a, b = calculate_extra_frame(video_frame, target_frame)\n",
    "        # print(a, b)\n",
    "        for i in range(int(a)):\n",
    "            new_lst.append(i)\n",
    "            new_lst.append(i)\n",
    "        for i in range(int(a), int(a + b)):\n",
    "            new_lst.append(i)\n",
    "        \n",
    "        # print(new_lst)\n",
    "\n",
    "    else:\n",
    "        new_lst = lst\n",
    "    return new_lst\n",
    "\n",
    "import cv2\n",
    "\n",
    "# Hàm mới để xử lý video\n",
    "def process_video(video_path, output_path, target_frame):\n",
    "    # Mở video\n",
    "    cap = cv2.VideoCapture(video_path)\n",
    "    if not cap.isOpened():\n",
    "        print(\"Không thể mở video\")\n",
    "        return\n",
    "\n",
    "    # Đọc số lượng frames và tính toán danh sách frame\n",
    "    video_frame = int(cap.get(cv2.CAP_PROP_FRAME_COUNT))\n",
    "    frame_list = get_frame_list(video_frame, target_frame)\n",
    "\n",
    "    # Tạo đối tượng VideoWriter để ghi video\n",
    "    fourcc = cv2.VideoWriter_fourcc(*'XVID')\n",
    "    fps = cap.get(cv2.CAP_PROP_FPS)\n",
    "    width = int(cap.get(cv2.CAP_PROP_FRAME_WIDTH))\n",
    "    height = int(cap.get(cv2.CAP_PROP_FRAME_HEIGHT))\n",
    "    out = cv2.VideoWriter(output_path, fourcc, fps, (width, height))\n",
    "\n",
    "    # Xử lý từng frame\n",
    "    frame_idx = 0\n",
    "    while cap.isOpened():\n",
    "        ret, frame = cap.read()\n",
    "        if not ret:\n",
    "            break\n",
    "\n",
    "        # Kiểm tra và xử lý frame\n",
    "        if frame_idx in frame_list :\n",
    "            if frame_list.count(frame_idx) > 1:\n",
    "                out.write(frame)\n",
    "                out.write(frame)\n",
    "            else:\n",
    "                out.write(frame)\n",
    "        frame_idx += 1\n",
    "\n",
    "    # Đóng tất cả\n",
    "    cap.release()\n",
    "    out.release()\n",
    "    cv2.destroyAllWindows()"
   ]
  },
  {
   "cell_type": "code",
   "execution_count": 2,
   "metadata": {},
   "outputs": [
    {
     "name": "stderr",
     "output_type": "stream",
     "text": [
      " 16%|█▌        | 475/3000 [05:36<27:21,  1.54it/s]"
     ]
    },
    {
     "name": "stdout",
     "output_type": "stream",
     "text": [
      "Không thể mở video\n",
      "Không thể mở video\n"
     ]
    },
    {
     "name": "stderr",
     "output_type": "stream",
     "text": [
      " 16%|█▌        | 478/3000 [05:36<14:16,  2.94it/s]"
     ]
    },
    {
     "name": "stdout",
     "output_type": "stream",
     "text": [
      "Không thể mở video\n",
      "Không thể mở video\n"
     ]
    },
    {
     "name": "stderr",
     "output_type": "stream",
     "text": [
      " 16%|█▌        | 480/3000 [05:37<10:28,  4.01it/s]"
     ]
    },
    {
     "name": "stdout",
     "output_type": "stream",
     "text": [
      "Không thể mở video\n",
      "Không thể mở video\n"
     ]
    },
    {
     "name": "stderr",
     "output_type": "stream",
     "text": [
      " 65%|██████▌   | 1952/3000 [24:17<08:46,  1.99it/s]"
     ]
    },
    {
     "name": "stdout",
     "output_type": "stream",
     "text": [
      "Không thể mở video\n",
      "Không thể mở video\n"
     ]
    },
    {
     "name": "stderr",
     "output_type": "stream",
     "text": [
      " 65%|██████▌   | 1954/3000 [24:17<05:47,  3.01it/s]"
     ]
    },
    {
     "name": "stdout",
     "output_type": "stream",
     "text": [
      "Không thể mở video\n",
      "Không thể mở video\n"
     ]
    },
    {
     "name": "stderr",
     "output_type": "stream",
     "text": [
      " 65%|██████▌   | 1956/3000 [24:17<04:20,  4.01it/s]"
     ]
    },
    {
     "name": "stdout",
     "output_type": "stream",
     "text": [
      "Không thể mở video\n",
      "Không thể mở video\n"
     ]
    },
    {
     "name": "stderr",
     "output_type": "stream",
     "text": [
      " 70%|███████   | 2102/3000 [26:00<06:33,  2.28it/s]"
     ]
    },
    {
     "name": "stdout",
     "output_type": "stream",
     "text": [
      "Không thể mở video\n",
      "Không thể mở video\n"
     ]
    },
    {
     "name": "stderr",
     "output_type": "stream",
     "text": [
      " 70%|███████   | 2104/3000 [26:00<04:30,  3.31it/s]"
     ]
    },
    {
     "name": "stdout",
     "output_type": "stream",
     "text": [
      "Không thể mở video\n",
      "Không thể mở video\n"
     ]
    },
    {
     "name": "stderr",
     "output_type": "stream",
     "text": [
      " 70%|███████   | 2106/3000 [26:00<03:24,  4.36it/s]"
     ]
    },
    {
     "name": "stdout",
     "output_type": "stream",
     "text": [
      "Không thể mở video\n",
      "Không thể mở video\n"
     ]
    },
    {
     "name": "stderr",
     "output_type": "stream",
     "text": [
      "100%|██████████| 3000/3000 [37:23<00:00,  1.34it/s]\n"
     ]
    }
   ],
   "source": [
    "import os\n",
    "from tqdm import tqdm\n",
    "\n",
    "def process_all_videos(source_folder, target_folder, target_frame):\n",
    "    # Tạo thư mục đích nếu chưa tồn tại\n",
    "    if not os.path.exists(target_folder):\n",
    "        os.makedirs(target_folder)\n",
    "\n",
    "    # Lấy danh sách tất cả các file video\n",
    "    video_files = [file for file in os.listdir(source_folder) if file.endswith('.mp4')]\n",
    "\n",
    "    for video_file in tqdm(video_files):\n",
    "        video_path = os.path.join(source_folder, video_file)\n",
    "        output_path = os.path.join(target_folder, video_file)\n",
    "        process_video(video_path, output_path, target_frame)\n",
    "\n",
    "source_folder = 'augmented_data'\n",
    "target_folder = 'reframe_video'\n",
    "target_frame = 120\n",
    "\n",
    "process_all_videos(source_folder, target_folder, target_frame)"
   ]
  },
  {
   "cell_type": "code",
   "execution_count": 3,
   "metadata": {},
   "outputs": [
    {
     "name": "stdout",
     "output_type": "stream",
     "text": [
      "Không thể mở video.\n"
     ]
    }
   ],
   "source": [
    "import cv2\n",
    "\n",
    "def get_video_info(video_path):\n",
    "    # Mở video\n",
    "    cap = cv2.VideoCapture(video_path)\n",
    "\n",
    "    # Kiểm tra xem video có được mở thành công hay không\n",
    "    if not cap.isOpened():\n",
    "        print(\"Không thể mở video.\")\n",
    "        return\n",
    "\n",
    "    # Lấy số tổng số frame\n",
    "    total_frames = int(cap.get(cv2.CAP_PROP_FRAME_COUNT))\n",
    "\n",
    "    # Lấy số frame rate\n",
    "    frame_rate = cap.get(cv2.CAP_PROP_FPS)\n",
    "\n",
    "    print(f\"Tổng số frame của video là: {total_frames}\")\n",
    "    print(f\"Số frame rate của video là: {frame_rate} frames per second\")\n",
    "\n",
    "    # Đóng video\n",
    "    cap.release()\n",
    "\n",
    "# Thay đổi đường dẫn của video của bạn\n",
    "video_path = r'reframe_data\\017_001_004_cropped_rotated_right.mp4'\n",
    "get_video_info(video_path)\n"
   ]
  },
  {
   "cell_type": "code",
   "execution_count": 4,
   "metadata": {},
   "outputs": [
    {
     "name": "stderr",
     "output_type": "stream",
     "text": [
      "Đang xử lý video: 100%|██████████| 2982/2982 [00:13<00:00, 226.54it/s]\n"
     ]
    },
    {
     "data": {
      "image/png": "[encoded data removed]",
      "text/plain": [
       "<Figure size 1000x600 with 1 Axes>"
      ]
     },
     "metadata": {},
     "output_type": "display_data"
    },
    {
     "name": "stdout",
     "output_type": "stream",
     "text": [
      "Số lượng frames trung bình của mỗi video: 119.98390342052313\n"
     ]
    }
   ],
   "source": [
    "import cv2\n",
    "import os\n",
    "import matplotlib.pyplot as plt\n",
    "from tqdm import tqdm\n",
    "\n",
    "# Đường dẫn đến thư mục chứa video\n",
    "folder_path = 'reframe_video'\n",
    "\n",
    "# Lấy danh sách tất cả các file video trong thư mục\n",
    "video_files = [f for f in os.listdir(folder_path) if os.path.isfile(os.path.join(folder_path, f))]\n",
    "\n",
    "frame_counts = []\n",
    "video_count = 0\n",
    "lst = []\n",
    "# Duyệt qua tất cả các video và đếm số lượng frames\n",
    "for video_file in tqdm(video_files, desc=\"Đang xử lý video\"):\n",
    "    path = os.path.join(folder_path, video_file)\n",
    "    cap = cv2.VideoCapture(path)\n",
    "\n",
    "    if not cap.isOpened():\n",
    "        print(f\"Không thể mở video {video_file}\")\n",
    "        continue\n",
    "\n",
    "    frame_count = int(cap.get(cv2.CAP_PROP_FRAME_COUNT))\n",
    "    if frame_count < 100:\n",
    "        # print(video_file)\n",
    "        lst.append(video_file)\n",
    "\n",
    "    frame_counts.append(frame_count)\n",
    "    video_count += 1\n",
    "\n",
    "    cap.release()\n",
    "\n",
    "# Vẽ biểu đồ thống kê số lượng frames\n",
    "plt.figure(figsize=(10, 6))\n",
    "plt.hist(frame_counts, bins=20, color='blue', alpha=0.7)\n",
    "plt.title('Phân bố số lượng frames trong các video')\n",
    "plt.xlabel('Số lượng Frames')\n",
    "plt.ylabel('Số lượng Video')\n",
    "plt.grid(True)\n",
    "plt.show()\n",
    "\n",
    "# In ra thông tin thống kê\n",
    "if video_count > 0:\n",
    "    average_frames = sum(frame_counts) / video_count\n",
    "    print(f\"Số lượng frames trung bình của mỗi video: {average_frames}\")\n",
    "else:\n",
    "    print(\"Không tìm thấy video trong thư mục.\")\n"
   ]
  },
  {
   "cell_type": "code",
   "execution_count": 20,
   "metadata": {},
   "outputs": [
    {
     "data": {
      "text/plain": [
       "462"
      ]
     },
     "execution_count": 20,
     "metadata": {},
     "output_type": "execute_result"
    }
   ],
   "source": [
    "len(lst)"
   ]
  }
 ],
 "metadata": {
  "kernelspec": {
   "display_name": "Python 3",
   "language": "python",
   "name": "python3"
  },
  "language_info": {
   "codemirror_mode": {
    "name": "ipython",
    "version": 3
   },
   "file_extension": ".py",
   "mimetype": "text/x-python",
   "name": "python",
   "nbconvert_exporter": "python",
   "pygments_lexer": "ipython3",
   "version": "3.10.7"
  }
 },
 "nbformat": 4,
 "nbformat_minor": 2
}
